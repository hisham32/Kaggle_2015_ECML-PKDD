{
 "cells": [
  {
   "cell_type": "code",
   "execution_count": 2,
   "metadata": {
    "collapsed": true
   },
   "outputs": [],
   "source": [
    "import os\n",
    "import sys\n",
    "import gzip\n",
    "import glob\n",
    "import math\n",
    "import numpy as np\n",
    "import pandas as pd\n",
    "from time import time\n",
    "from scipy import stats\n",
    "import matplotlib\n",
    "import matplotlib.pyplot as plt\n",
    "import matplotlib.backends.backend_pdf\n",
    "# matplotlib.style.use('ggplot')\n",
    "%matplotlib inline"
   ]
  },
  {
   "cell_type": "code",
   "execution_count": 7,
   "metadata": {
    "collapsed": false
   },
   "outputs": [
    {
     "name": "stdout",
     "output_type": "stream",
     "text": [
      "   ID  Descricao       Latitude  Longitude\n",
      "0   1       Agra  41.1771457135  -8.609670\n",
      "1   2    Alameda    41.15618964  -8.591064\n",
      "2   3     Aldoar  41.1705249231  -8.665876\n",
      "3   4  Alfândega  41.1437639911  -8.621803\n",
      "4   5      Amial  41.1835097223  -8.612726\n"
     ]
    },
    {
     "data": {
      "text/html": [
       "<div style=\"max-height:1000px;max-width:1500px;overflow:auto;\">\n",
       "<table border=\"1\" class=\"dataframe\">\n",
       "  <thead>\n",
       "    <tr style=\"text-align: right;\">\n",
       "      <th></th>\n",
       "      <th>TRIP_ID</th>\n",
       "      <th>CALL_TYPE</th>\n",
       "      <th>ORIGIN_CALL</th>\n",
       "      <th>ORIGIN_STAND</th>\n",
       "      <th>TAXI_ID</th>\n",
       "      <th>TIMESTAMP</th>\n",
       "      <th>DAY_TYPE</th>\n",
       "      <th>MISSING_DATA</th>\n",
       "      <th>POLYLINE</th>\n",
       "    </tr>\n",
       "  </thead>\n",
       "  <tbody>\n",
       "    <tr>\n",
       "      <th>0</th>\n",
       "      <td> 1372636858620000589</td>\n",
       "      <td> C</td>\n",
       "      <td>NaN</td>\n",
       "      <td>NaN</td>\n",
       "      <td> 20000589</td>\n",
       "      <td> 1372636858</td>\n",
       "      <td> A</td>\n",
       "      <td> False</td>\n",
       "      <td> [[-8.618643,41.141412],[-8.618499,41.141376],[...</td>\n",
       "    </tr>\n",
       "    <tr>\n",
       "      <th>1</th>\n",
       "      <td> 1372637303620000596</td>\n",
       "      <td> B</td>\n",
       "      <td>NaN</td>\n",
       "      <td>  7</td>\n",
       "      <td> 20000596</td>\n",
       "      <td> 1372637303</td>\n",
       "      <td> A</td>\n",
       "      <td> False</td>\n",
       "      <td> [[-8.639847,41.159826],[-8.640351,41.159871],[...</td>\n",
       "    </tr>\n",
       "    <tr>\n",
       "      <th>2</th>\n",
       "      <td> 1372636951620000320</td>\n",
       "      <td> C</td>\n",
       "      <td>NaN</td>\n",
       "      <td>NaN</td>\n",
       "      <td> 20000320</td>\n",
       "      <td> 1372636951</td>\n",
       "      <td> A</td>\n",
       "      <td> False</td>\n",
       "      <td> [[-8.612964,41.140359],[-8.613378,41.14035],[-...</td>\n",
       "    </tr>\n",
       "    <tr>\n",
       "      <th>3</th>\n",
       "      <td> 1372636854620000520</td>\n",
       "      <td> C</td>\n",
       "      <td>NaN</td>\n",
       "      <td>NaN</td>\n",
       "      <td> 20000520</td>\n",
       "      <td> 1372636854</td>\n",
       "      <td> A</td>\n",
       "      <td> False</td>\n",
       "      <td> [[-8.574678,41.151951],[-8.574705,41.151942],[...</td>\n",
       "    </tr>\n",
       "    <tr>\n",
       "      <th>4</th>\n",
       "      <td> 1372637091620000337</td>\n",
       "      <td> C</td>\n",
       "      <td>NaN</td>\n",
       "      <td>NaN</td>\n",
       "      <td> 20000337</td>\n",
       "      <td> 1372637091</td>\n",
       "      <td> A</td>\n",
       "      <td> False</td>\n",
       "      <td> [[-8.645994,41.18049],[-8.645949,41.180517],[-...</td>\n",
       "    </tr>\n",
       "  </tbody>\n",
       "</table>\n",
       "</div>"
      ],
      "text/plain": [
       "               TRIP_ID CALL_TYPE  ORIGIN_CALL  ORIGIN_STAND   TAXI_ID  \\\n",
       "0  1372636858620000589         C          NaN           NaN  20000589   \n",
       "1  1372637303620000596         B          NaN             7  20000596   \n",
       "2  1372636951620000320         C          NaN           NaN  20000320   \n",
       "3  1372636854620000520         C          NaN           NaN  20000520   \n",
       "4  1372637091620000337         C          NaN           NaN  20000337   \n",
       "\n",
       "    TIMESTAMP DAY_TYPE MISSING_DATA  \\\n",
       "0  1372636858        A        False   \n",
       "1  1372637303        A        False   \n",
       "2  1372636951        A        False   \n",
       "3  1372636854        A        False   \n",
       "4  1372637091        A        False   \n",
       "\n",
       "                                            POLYLINE  \n",
       "0  [[-8.618643,41.141412],[-8.618499,41.141376],[...  \n",
       "1  [[-8.639847,41.159826],[-8.640351,41.159871],[...  \n",
       "2  [[-8.612964,41.140359],[-8.613378,41.14035],[-...  \n",
       "3  [[-8.574678,41.151951],[-8.574705,41.151942],[...  \n",
       "4  [[-8.645994,41.18049],[-8.645949,41.180517],[-...  "
      ]
     },
     "execution_count": 7,
     "metadata": {},
     "output_type": "execute_result"
    }
   ],
   "source": [
    "''' Loading data sets\n",
    "'''\n",
    "meta = pd.read_csv('data/metaData_taxistandsID_name_GPSlocation.csv')\n",
    "train = pd.read_csv('data/train.1k.csv', quotechar='\"')\n",
    "print meta.head()\n",
    "train.head()"
   ]
  },
  {
   "cell_type": "code",
   "execution_count": 27,
   "metadata": {
    "collapsed": false
   },
   "outputs": [
    {
     "name": "stdout",
     "output_type": "stream",
     "text": [
      "Distribution of CALL_TYPE\n",
      "CALL_TYPE\n",
      "A            267\n",
      "B            433\n",
      "C            299\n",
      "dtype: int64\n",
      "Distribution of DAY_TYPE\n",
      "DAY_TYPE\n",
      "A           999\n",
      "dtype: int64\n",
      "Distribution of MISSING_DATA\n",
      "MISSING_DATA\n",
      "False           999\n",
      "dtype: int64\n"
     ]
    }
   ],
   "source": [
    "print 'Distribution of CALL_TYPE'\n",
    "print train.groupby('CALL_TYPE').apply(lambda x: len(x))\n",
    "print 'Distribution of DAY_TYPE'\n",
    "print train.groupby('DAY_TYPE').apply(lambda x: len(x))\n",
    "print 'Distribution of MISSING_DATA'\n",
    "print train.groupby('MISSING_DATA').apply(lambda x: len(x))"
   ]
  },
  {
   "cell_type": "code",
   "execution_count": 54,
   "metadata": {
    "collapsed": false
   },
   "outputs": [
    {
     "name": "stdout",
     "output_type": "stream",
     "text": [
      "[[-8.618643, 41.141412], [-8.618499, 41.141376], [-8.620326, 41.14251], [-8.622153, 41.143815], [-8.623953, 41.144373], [-8.62668, 41.144778], [-8.627373, 41.144697], [-8.630226, 41.14521], [-8.632746, 41.14692], [-8.631738, 41.148225], [-8.629938, 41.150385], [-8.62911, 41.151213], [-8.629128, 41.15124], [-8.628786, 41.152203], [-8.628687, 41.152374], [-8.628759, 41.152518], [-8.630838, 41.15268], [-8.632323, 41.153022], [-8.631144, 41.154489], [-8.630829, 41.154507], [-8.630829, 41.154516], [-8.630829, 41.154498], [-8.630838, 41.154489]]\n",
      "True\n"
     ]
    }
   ],
   "source": [
    "import ast\n",
    "from ast import literal_eval\n",
    "string = train[train.TRIP_ID==1372636858620000589].POLYLINE.values[0]\n",
    "ll = list(literal_eval(string))\n",
    "print ll\n",
    "ll[0]\n",
    "print ll[0][1] > ll[0][0]"
   ]
  },
  {
   "cell_type": "code",
   "execution_count": 60,
   "metadata": {
    "collapsed": false
   },
   "outputs": [
    {
     "name": "stdout",
     "output_type": "stream",
     "text": [
      "[[-8.618643, 41.141412], [-8.618499, 41.141376], [-8.620326, 41.14251], [-8.622153, 41.143815], [-8.623953, 41.144373], [-8.62668, 41.144778], [-8.627373, 41.144697], [-8.630226, 41.14521], [-8.632746, 41.14692], [-8.631738, 41.148225], [-8.629938, 41.150385], [-8.62911, 41.151213], [-8.629128, 41.15124], [-8.628786, 41.152203], [-8.628687, 41.152374], [-8.628759, 41.152518], [-8.630838, 41.15268], [-8.632323, 41.153022], [-8.631144, 41.154489], [-8.630829, 41.154507], [-8.630829, 41.154516], [-8.630829, 41.154498], [-8.630838, 41.154489]]\n",
      "[-8.630838, 41.154489]\n"
     ]
    }
   ],
   "source": [
    "print ll\n",
    "print ll[-1]"
   ]
  },
  {
   "cell_type": "code",
   "execution_count": 66,
   "metadata": {
    "collapsed": false
   },
   "outputs": [
    {
     "name": "stdout",
     "output_type": "stream",
     "text": [
      "[3, 0, 14, 3]\n",
      "1 -8.630838 41.154489\n"
     ]
    }
   ],
   "source": [
    "# find BBox\n",
    "lat = ll[-1][0]\n",
    "lng = ll[-1][1]\n",
    "# voting area\n",
    "area = [0,0,0,0]\n",
    "for coo in ll[:-1]:\n",
    "    if coo[0] < lat and coo[1] < lng:\n",
    "        area[0] += 1\n",
    "    elif coo[0] < lat and coo[1] > lng:\n",
    "        area[1] += 1\n",
    "    elif coo[0] > lat and coo[1] < lng:\n",
    "        area[2] += 1\n",
    "    elif coo[0] > lat and coo[1] > lng:\n",
    "        area[3] += 1\n",
    "print area\n",
    "areaArray = np.array(area)\n",
    "idx = int(np.where(areaArray == areaArray.min())[0])\n",
    "print idx, lat, lng"
   ]
  },
  {
   "cell_type": "code",
   "execution_count": null,
   "metadata": {
    "collapsed": true
   },
   "outputs": [],
   "source": []
  }
 ],
 "metadata": {
  "kernelspec": {
   "display_name": "Python 2",
   "language": "python",
   "name": "python2"
  },
  "language_info": {
   "codemirror_mode": {
    "name": "ipython",
    "version": 2
   },
   "file_extension": ".py",
   "mimetype": "text/x-python",
   "name": "python",
   "nbconvert_exporter": "python",
   "pygments_lexer": "ipython2",
   "version": "2.7.6"
  }
 },
 "nbformat": 4,
 "nbformat_minor": 0
}
